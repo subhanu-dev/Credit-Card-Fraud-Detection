{
 "cells": [
  {
   "cell_type": "markdown",
   "metadata": {},
   "source": [
    "# Credit Card Fraud Detection with ML"
   ]
  },
  {
   "cell_type": "markdown",
   "metadata": {},
   "source": [
    "## Loading the data"
   ]
  },
  {
   "cell_type": "markdown",
   "metadata": {},
   "source": [
    "Dataset link: https://www.kaggle.com/datasets/mlg-ulb/creditcardfraud/data\n",
    "\n",
    "The dataset contains transactions made by credit cards in September 2013 by European cardholders.\n",
    "This dataset presents transactions that occurred in two days, where we have 492 frauds out of 284,807 transactions. The dataset is highly unbalanced, the positive class (frauds) account for 0.172% of all transactions."
   ]
  },
  {
   "cell_type": "code",
   "execution_count": 1,
   "metadata": {},
   "outputs": [],
   "source": [
    "import pandas as pd\n",
    "import numpy as np\n",
    "import seaborn as sns\n",
    "import matplotlib.pyplot as plt\n",
    "\n",
    "from pycaret.classification import *\n",
    "\n",
    "%matplotlib inline \n",
    "#forces matplotlib to display plots directly in the output cells of a Jupyter notebook (or IPython console), without needing to explicitly call plt.show()\n"
   ]
  },
  {
   "cell_type": "code",
   "execution_count": 2,
   "metadata": {},
   "outputs": [
    {
     "data": {
      "text/html": [
       "<div>\n",
       "<style scoped>\n",
       "    .dataframe tbody tr th:only-of-type {\n",
       "        vertical-align: middle;\n",
       "    }\n",
       "\n",
       "    .dataframe tbody tr th {\n",
       "        vertical-align: top;\n",
       "    }\n",
       "\n",
       "    .dataframe thead th {\n",
       "        text-align: right;\n",
       "    }\n",
       "</style>\n",
       "<table border=\"1\" class=\"dataframe\">\n",
       "  <thead>\n",
       "    <tr style=\"text-align: right;\">\n",
       "      <th></th>\n",
       "      <th>Time</th>\n",
       "      <th>V1</th>\n",
       "      <th>V2</th>\n",
       "      <th>V3</th>\n",
       "      <th>V4</th>\n",
       "      <th>V5</th>\n",
       "      <th>V6</th>\n",
       "      <th>V7</th>\n",
       "      <th>V8</th>\n",
       "      <th>V9</th>\n",
       "      <th>...</th>\n",
       "      <th>V21</th>\n",
       "      <th>V22</th>\n",
       "      <th>V23</th>\n",
       "      <th>V24</th>\n",
       "      <th>V25</th>\n",
       "      <th>V26</th>\n",
       "      <th>V27</th>\n",
       "      <th>V28</th>\n",
       "      <th>Amount</th>\n",
       "      <th>Class</th>\n",
       "    </tr>\n",
       "  </thead>\n",
       "  <tbody>\n",
       "    <tr>\n",
       "      <th>0</th>\n",
       "      <td>0.0</td>\n",
       "      <td>-1.359807</td>\n",
       "      <td>-0.072781</td>\n",
       "      <td>2.536347</td>\n",
       "      <td>1.378155</td>\n",
       "      <td>-0.338321</td>\n",
       "      <td>0.462388</td>\n",
       "      <td>0.239599</td>\n",
       "      <td>0.098698</td>\n",
       "      <td>0.363787</td>\n",
       "      <td>...</td>\n",
       "      <td>-0.018307</td>\n",
       "      <td>0.277838</td>\n",
       "      <td>-0.110474</td>\n",
       "      <td>0.066928</td>\n",
       "      <td>0.128539</td>\n",
       "      <td>-0.189115</td>\n",
       "      <td>0.133558</td>\n",
       "      <td>-0.021053</td>\n",
       "      <td>149.62</td>\n",
       "      <td>0</td>\n",
       "    </tr>\n",
       "    <tr>\n",
       "      <th>1</th>\n",
       "      <td>0.0</td>\n",
       "      <td>1.191857</td>\n",
       "      <td>0.266151</td>\n",
       "      <td>0.166480</td>\n",
       "      <td>0.448154</td>\n",
       "      <td>0.060018</td>\n",
       "      <td>-0.082361</td>\n",
       "      <td>-0.078803</td>\n",
       "      <td>0.085102</td>\n",
       "      <td>-0.255425</td>\n",
       "      <td>...</td>\n",
       "      <td>-0.225775</td>\n",
       "      <td>-0.638672</td>\n",
       "      <td>0.101288</td>\n",
       "      <td>-0.339846</td>\n",
       "      <td>0.167170</td>\n",
       "      <td>0.125895</td>\n",
       "      <td>-0.008983</td>\n",
       "      <td>0.014724</td>\n",
       "      <td>2.69</td>\n",
       "      <td>0</td>\n",
       "    </tr>\n",
       "    <tr>\n",
       "      <th>2</th>\n",
       "      <td>1.0</td>\n",
       "      <td>-1.358354</td>\n",
       "      <td>-1.340163</td>\n",
       "      <td>1.773209</td>\n",
       "      <td>0.379780</td>\n",
       "      <td>-0.503198</td>\n",
       "      <td>1.800499</td>\n",
       "      <td>0.791461</td>\n",
       "      <td>0.247676</td>\n",
       "      <td>-1.514654</td>\n",
       "      <td>...</td>\n",
       "      <td>0.247998</td>\n",
       "      <td>0.771679</td>\n",
       "      <td>0.909412</td>\n",
       "      <td>-0.689281</td>\n",
       "      <td>-0.327642</td>\n",
       "      <td>-0.139097</td>\n",
       "      <td>-0.055353</td>\n",
       "      <td>-0.059752</td>\n",
       "      <td>378.66</td>\n",
       "      <td>0</td>\n",
       "    </tr>\n",
       "    <tr>\n",
       "      <th>3</th>\n",
       "      <td>1.0</td>\n",
       "      <td>-0.966272</td>\n",
       "      <td>-0.185226</td>\n",
       "      <td>1.792993</td>\n",
       "      <td>-0.863291</td>\n",
       "      <td>-0.010309</td>\n",
       "      <td>1.247203</td>\n",
       "      <td>0.237609</td>\n",
       "      <td>0.377436</td>\n",
       "      <td>-1.387024</td>\n",
       "      <td>...</td>\n",
       "      <td>-0.108300</td>\n",
       "      <td>0.005274</td>\n",
       "      <td>-0.190321</td>\n",
       "      <td>-1.175575</td>\n",
       "      <td>0.647376</td>\n",
       "      <td>-0.221929</td>\n",
       "      <td>0.062723</td>\n",
       "      <td>0.061458</td>\n",
       "      <td>123.50</td>\n",
       "      <td>0</td>\n",
       "    </tr>\n",
       "    <tr>\n",
       "      <th>4</th>\n",
       "      <td>2.0</td>\n",
       "      <td>-1.158233</td>\n",
       "      <td>0.877737</td>\n",
       "      <td>1.548718</td>\n",
       "      <td>0.403034</td>\n",
       "      <td>-0.407193</td>\n",
       "      <td>0.095921</td>\n",
       "      <td>0.592941</td>\n",
       "      <td>-0.270533</td>\n",
       "      <td>0.817739</td>\n",
       "      <td>...</td>\n",
       "      <td>-0.009431</td>\n",
       "      <td>0.798278</td>\n",
       "      <td>-0.137458</td>\n",
       "      <td>0.141267</td>\n",
       "      <td>-0.206010</td>\n",
       "      <td>0.502292</td>\n",
       "      <td>0.219422</td>\n",
       "      <td>0.215153</td>\n",
       "      <td>69.99</td>\n",
       "      <td>0</td>\n",
       "    </tr>\n",
       "  </tbody>\n",
       "</table>\n",
       "<p>5 rows × 31 columns</p>\n",
       "</div>"
      ],
      "text/plain": [
       "   Time        V1        V2        V3        V4        V5        V6        V7  \\\n",
       "0   0.0 -1.359807 -0.072781  2.536347  1.378155 -0.338321  0.462388  0.239599   \n",
       "1   0.0  1.191857  0.266151  0.166480  0.448154  0.060018 -0.082361 -0.078803   \n",
       "2   1.0 -1.358354 -1.340163  1.773209  0.379780 -0.503198  1.800499  0.791461   \n",
       "3   1.0 -0.966272 -0.185226  1.792993 -0.863291 -0.010309  1.247203  0.237609   \n",
       "4   2.0 -1.158233  0.877737  1.548718  0.403034 -0.407193  0.095921  0.592941   \n",
       "\n",
       "         V8        V9  ...       V21       V22       V23       V24       V25  \\\n",
       "0  0.098698  0.363787  ... -0.018307  0.277838 -0.110474  0.066928  0.128539   \n",
       "1  0.085102 -0.255425  ... -0.225775 -0.638672  0.101288 -0.339846  0.167170   \n",
       "2  0.247676 -1.514654  ...  0.247998  0.771679  0.909412 -0.689281 -0.327642   \n",
       "3  0.377436 -1.387024  ... -0.108300  0.005274 -0.190321 -1.175575  0.647376   \n",
       "4 -0.270533  0.817739  ... -0.009431  0.798278 -0.137458  0.141267 -0.206010   \n",
       "\n",
       "        V26       V27       V28  Amount  Class  \n",
       "0 -0.189115  0.133558 -0.021053  149.62      0  \n",
       "1  0.125895 -0.008983  0.014724    2.69      0  \n",
       "2 -0.139097 -0.055353 -0.059752  378.66      0  \n",
       "3 -0.221929  0.062723  0.061458  123.50      0  \n",
       "4  0.502292  0.219422  0.215153   69.99      0  \n",
       "\n",
       "[5 rows x 31 columns]"
      ]
     },
     "execution_count": 2,
     "metadata": {},
     "output_type": "execute_result"
    }
   ],
   "source": [
    "df=pd.read_csv('./data/creditcard.csv')\n",
    "df.head()"
   ]
  },
  {
   "cell_type": "markdown",
   "metadata": {},
   "source": [
    "## EDA & Preprocessing"
   ]
  },
  {
   "cell_type": "code",
   "execution_count": 3,
   "metadata": {},
   "outputs": [
    {
     "data": {
      "text/plain": [
       "(284807, 31)"
      ]
     },
     "execution_count": 3,
     "metadata": {},
     "output_type": "execute_result"
    }
   ],
   "source": [
    "df.shape"
   ]
  },
  {
   "cell_type": "code",
   "execution_count": 4,
   "metadata": {},
   "outputs": [
    {
     "name": "stdout",
     "output_type": "stream",
     "text": [
      "null rows:\n",
      "Time      0\n",
      "V1        0\n",
      "V2        0\n",
      "V3        0\n",
      "V4        0\n",
      "V5        0\n",
      "V6        0\n",
      "V7        0\n",
      "V8        0\n",
      "V9        0\n",
      "V10       0\n",
      "V11       0\n",
      "V12       0\n",
      "V13       0\n",
      "V14       0\n",
      "V15       0\n",
      "V16       0\n",
      "V17       0\n",
      "V18       0\n",
      "V19       0\n",
      "V20       0\n",
      "V21       0\n",
      "V22       0\n",
      "V23       0\n",
      "V24       0\n",
      "V25       0\n",
      "V26       0\n",
      "V27       0\n",
      "V28       0\n",
      "Amount    0\n",
      "Class     0\n",
      "dtype: int64\n"
     ]
    }
   ],
   "source": [
    "print(f\"null rows:\\n{df.isnull().sum()}\")"
   ]
  },
  {
   "cell_type": "code",
   "execution_count": 5,
   "metadata": {},
   "outputs": [
    {
     "name": "stdout",
     "output_type": "stream",
     "text": [
      "\n",
      "Total duplicate rows: 1081\n"
     ]
    }
   ],
   "source": [
    "print(f\"\\nTotal duplicate rows: {df.duplicated().sum()}\")"
   ]
  },
  {
   "cell_type": "code",
   "execution_count": 6,
   "metadata": {},
   "outputs": [],
   "source": [
    "#dropping duplicate rows\n",
    "df=df.drop_duplicates()"
   ]
  },
  {
   "cell_type": "code",
   "execution_count": 7,
   "metadata": {},
   "outputs": [
    {
     "name": "stdout",
     "output_type": "stream",
     "text": [
      "<class 'pandas.core.frame.DataFrame'>\n",
      "Index: 283726 entries, 0 to 284806\n",
      "Data columns (total 31 columns):\n",
      " #   Column  Non-Null Count   Dtype  \n",
      "---  ------  --------------   -----  \n",
      " 0   Time    283726 non-null  float64\n",
      " 1   V1      283726 non-null  float64\n",
      " 2   V2      283726 non-null  float64\n",
      " 3   V3      283726 non-null  float64\n",
      " 4   V4      283726 non-null  float64\n",
      " 5   V5      283726 non-null  float64\n",
      " 6   V6      283726 non-null  float64\n",
      " 7   V7      283726 non-null  float64\n",
      " 8   V8      283726 non-null  float64\n",
      " 9   V9      283726 non-null  float64\n",
      " 10  V10     283726 non-null  float64\n",
      " 11  V11     283726 non-null  float64\n",
      " 12  V12     283726 non-null  float64\n",
      " 13  V13     283726 non-null  float64\n",
      " 14  V14     283726 non-null  float64\n",
      " 15  V15     283726 non-null  float64\n",
      " 16  V16     283726 non-null  float64\n",
      " 17  V17     283726 non-null  float64\n",
      " 18  V18     283726 non-null  float64\n",
      " 19  V19     283726 non-null  float64\n",
      " 20  V20     283726 non-null  float64\n",
      " 21  V21     283726 non-null  float64\n",
      " 22  V22     283726 non-null  float64\n",
      " 23  V23     283726 non-null  float64\n",
      " 24  V24     283726 non-null  float64\n",
      " 25  V25     283726 non-null  float64\n",
      " 26  V26     283726 non-null  float64\n",
      " 27  V27     283726 non-null  float64\n",
      " 28  V28     283726 non-null  float64\n",
      " 29  Amount  283726 non-null  float64\n",
      " 30  Class   283726 non-null  int64  \n",
      "dtypes: float64(30), int64(1)\n",
      "memory usage: 69.3 MB\n"
     ]
    }
   ],
   "source": [
    "df.info()"
   ]
  },
  {
   "cell_type": "markdown",
   "metadata": {},
   "source": [
    "note from the dataset maintainers:\n",
    "\n",
    "It contains only numerical input variables which are the result of a PCA transformation. Unfortunately, due to confidentiality issues, we cannot provide the original features and more background information about the data. \n",
    "\n",
    "- Features V1, V2, … V28 are the principal components obtained with PCA, the only features which have not been transformed with PCA are 'Time' and 'Amount'.\n",
    "- Feature 'Time' contains the seconds elapsed between each transaction and the first transaction in the dataset. \n",
    "- The feature 'Amount' is the transaction Amount, this feature can be used for example-dependant cost-sensitive learning. Feature 'Class' is the response variable and it takes value 1 in case of fraud and 0 otherwise. "
   ]
  },
  {
   "cell_type": "code",
   "execution_count": 28,
   "metadata": {},
   "outputs": [
    {
     "name": "stdout",
     "output_type": "stream",
     "text": [
      "No Frauds 99.83 % of the dataset\n",
      "Frauds 0.17 % of the dataset\n"
     ]
    }
   ],
   "source": [
    "# The classes are heavily skewed we need to solve this issue later.\n",
    "print('No Frauds', round(df['Class'].value_counts()[0]/len(df) * 100,2), '% of the dataset')\n",
    "print('Frauds', round(df['Class'].value_counts()[1]/len(df) * 100,2), '% of the dataset')"
   ]
  },
  {
   "cell_type": "code",
   "execution_count": 29,
   "metadata": {},
   "outputs": [
    {
     "data": {
      "text/plain": [
       "Text(0.5, 1.0, 'Class Distributions \\n (0: No Fraud || 1: Fraud)')"
      ]
     },
     "execution_count": 29,
     "metadata": {},
     "output_type": "execute_result"
    },
    {
     "data": {
      "image/png": "[encoded data removed]",
      "text/plain": [
       "<Figure size 800x550 with 1 Axes>"
      ]
     },
     "metadata": {},
     "output_type": "display_data"
    }
   ],
   "source": [
    "colors = [\"#0101DF\", \"#DF0101\"]\n",
    "\n",
    "sns.countplot(x='Class', data=df, palette=colors, hue='Class')\n",
    "plt.title('Class Distributions \\n (0: No Fraud || 1: Fraud)', fontsize=14)\n",
    "#extremely imbalanced dataset"
   ]
  },
  {
   "cell_type": "code",
   "execution_count": 8,
   "metadata": {},
   "outputs": [
    {
     "data": {
      "text/plain": [
       "<Axes: xlabel='Time', ylabel='Count'>"
      ]
     },
     "execution_count": 8,
     "metadata": {},
     "output_type": "execute_result"
    },
    {
     "data": {
      "image/png": "[encoded data removed]",
      "text/plain": [
       "<Figure size 800x550 with 1 Axes>"
      ]
     },
     "metadata": {},
     "output_type": "display_data"
    }
   ],
   "source": [
    "sns.histplot(df['Time'], kde=True)"
   ]
  },
  {
   "cell_type": "code",
   "execution_count": null,
   "metadata": {},
   "outputs": [
    {
     "data": {
      "text/plain": [
       "count    283726.000000\n",
       "mean         88.472687\n",
       "std         250.399437\n",
       "min           0.000000\n",
       "25%           5.600000\n",
       "50%          22.000000\n",
       "75%          77.510000\n",
       "max       25691.160000\n",
       "Name: Amount, dtype: float64"
      ]
     },
     "execution_count": 16,
     "metadata": {},
     "output_type": "execute_result"
    },
    {
     "data": {
      "image/png": "[encoded data removed]",
      "text/plain": [
       "<Figure size 800x550 with 1 Axes>"
      ]
     },
     "metadata": {},
     "output_type": "display_data"
    }
   ],
   "source": [
    "sns.histplot(df['Amount'], kde=True)\n",
    "df['Amount'].describe()"
   ]
  },
  {
   "cell_type": "markdown",
   "metadata": {},
   "source": [
    "The amount data's mean is at 88 and there are values that spread all the way to over 25000. But we cannot actually quantify them as outliers since there are always people who spend much more than the average people. These are extreme customers that give us a right skewed distribution\n",
    "\n",
    "yet, the mean is influenced by these heavy spenders and makes it not representative of the full data sample variations. "
   ]
  },
  {
   "cell_type": "code",
   "execution_count": 22,
   "metadata": {},
   "outputs": [
    {
     "name": "stdout",
     "output_type": "stream",
     "text": [
      "Number of outliers identified: 18802\n"
     ]
    }
   ],
   "source": [
    "# working with outliers\n",
    "Q1 = df['Amount'].quantile(0.25)\n",
    "Q3 = df['Amount'].quantile(0.75)\n",
    "IQR = Q3 - Q1\n",
    "\n",
    "lower_bound = Q1 - 3 * IQR # using an 3 times the IQR cuz i still want to  preserve the original distribution\n",
    "upper_bound = Q3 + 3 * IQR\n",
    "\n",
    "outliers = df[(df['Amount'] < lower_bound) | (df['Amount'] > upper_bound)]\n",
    "print(\"Number of outliers identified:\", len(outliers))"
   ]
  },
  {
   "cell_type": "code",
   "execution_count": 23,
   "metadata": {},
   "outputs": [
    {
     "name": "stdout",
     "output_type": "stream",
     "text": [
      "Original Data Shape: (283726, 31)\n",
      "Filtered Data Shape: (264924, 31)\n"
     ]
    }
   ],
   "source": [
    "#removing the outliers\n",
    "filtered_df = df[(df['Amount'] >= lower_bound) & (df['Amount'] <= upper_bound)]\n",
    "\n",
    "print(f\"Original Data Shape: {df.shape}\")\n",
    "print(f\"Filtered Data Shape: {filtered_df.shape}\")"
   ]
  },
  {
   "cell_type": "code",
   "execution_count": 25,
   "metadata": {},
   "outputs": [
    {
     "data": {
      "text/plain": [
       "<matplotlib.legend.Legend at 0x1ae72588810>"
      ]
     },
     "execution_count": 25,
     "metadata": {},
     "output_type": "execute_result"
    },
    {
     "data": {
      "image/png": "[encoded data removed]",
      "text/plain": [
       "<Figure size 800x550 with 1 Axes>"
      ]
     },
     "metadata": {},
     "output_type": "display_data"
    }
   ],
   "source": [
    "plt.hist(filtered_df[filtered_df[\"Class\"]==1][\"Amount\"],color='red',density=True, bins=30,alpha=0.7,label=\"Fraudulent\")\n",
    "plt.hist(filtered_df[filtered_df[\"Class\"] ==0][\"Amount\"],color='lime', density=True,bins=30,alpha=0.7,label=\"Non Fraudulent\")\n",
    "plt.title(\"Distribution of Amounts in Fraudulent and Non-Fraudulent Transactions\")\n",
    "plt.legend()"
   ]
  },
  {
   "cell_type": "code",
   "execution_count": 31,
   "metadata": {},
   "outputs": [
    {
     "data": {
      "text/html": [
       "<div>\n",
       "<style scoped>\n",
       "    .dataframe tbody tr th:only-of-type {\n",
       "        vertical-align: middle;\n",
       "    }\n",
       "\n",
       "    .dataframe tbody tr th {\n",
       "        vertical-align: top;\n",
       "    }\n",
       "\n",
       "    .dataframe thead th {\n",
       "        text-align: right;\n",
       "    }\n",
       "</style>\n",
       "<table border=\"1\" class=\"dataframe\">\n",
       "  <thead>\n",
       "    <tr style=\"text-align: right;\">\n",
       "      <th></th>\n",
       "      <th>Time</th>\n",
       "      <th>V1</th>\n",
       "      <th>V2</th>\n",
       "      <th>V3</th>\n",
       "      <th>V4</th>\n",
       "      <th>V5</th>\n",
       "      <th>V6</th>\n",
       "      <th>V7</th>\n",
       "      <th>V8</th>\n",
       "      <th>V9</th>\n",
       "      <th>...</th>\n",
       "      <th>V21</th>\n",
       "      <th>V22</th>\n",
       "      <th>V23</th>\n",
       "      <th>V24</th>\n",
       "      <th>V25</th>\n",
       "      <th>V26</th>\n",
       "      <th>V27</th>\n",
       "      <th>V28</th>\n",
       "      <th>Amount</th>\n",
       "      <th>Class</th>\n",
       "    </tr>\n",
       "  </thead>\n",
       "  <tbody>\n",
       "    <tr>\n",
       "      <th>count</th>\n",
       "      <td>283726.000000</td>\n",
       "      <td>283726.000000</td>\n",
       "      <td>283726.000000</td>\n",
       "      <td>283726.000000</td>\n",
       "      <td>283726.000000</td>\n",
       "      <td>283726.000000</td>\n",
       "      <td>283726.000000</td>\n",
       "      <td>283726.000000</td>\n",
       "      <td>283726.000000</td>\n",
       "      <td>283726.000000</td>\n",
       "      <td>...</td>\n",
       "      <td>283726.000000</td>\n",
       "      <td>283726.000000</td>\n",
       "      <td>283726.000000</td>\n",
       "      <td>283726.000000</td>\n",
       "      <td>283726.000000</td>\n",
       "      <td>283726.000000</td>\n",
       "      <td>283726.000000</td>\n",
       "      <td>283726.000000</td>\n",
       "      <td>283726.000000</td>\n",
       "      <td>283726.000000</td>\n",
       "    </tr>\n",
       "    <tr>\n",
       "      <th>mean</th>\n",
       "      <td>94811.077600</td>\n",
       "      <td>0.005917</td>\n",
       "      <td>-0.004135</td>\n",
       "      <td>0.001613</td>\n",
       "      <td>-0.002966</td>\n",
       "      <td>0.001828</td>\n",
       "      <td>-0.001139</td>\n",
       "      <td>0.001801</td>\n",
       "      <td>-0.000854</td>\n",
       "      <td>-0.001596</td>\n",
       "      <td>...</td>\n",
       "      <td>-0.000371</td>\n",
       "      <td>-0.000015</td>\n",
       "      <td>0.000198</td>\n",
       "      <td>0.000214</td>\n",
       "      <td>-0.000232</td>\n",
       "      <td>0.000149</td>\n",
       "      <td>0.001763</td>\n",
       "      <td>0.000547</td>\n",
       "      <td>88.472687</td>\n",
       "      <td>0.001667</td>\n",
       "    </tr>\n",
       "    <tr>\n",
       "      <th>std</th>\n",
       "      <td>47481.047891</td>\n",
       "      <td>1.948026</td>\n",
       "      <td>1.646703</td>\n",
       "      <td>1.508682</td>\n",
       "      <td>1.414184</td>\n",
       "      <td>1.377008</td>\n",
       "      <td>1.331931</td>\n",
       "      <td>1.227664</td>\n",
       "      <td>1.179054</td>\n",
       "      <td>1.095492</td>\n",
       "      <td>...</td>\n",
       "      <td>0.723909</td>\n",
       "      <td>0.724550</td>\n",
       "      <td>0.623702</td>\n",
       "      <td>0.605627</td>\n",
       "      <td>0.521220</td>\n",
       "      <td>0.482053</td>\n",
       "      <td>0.395744</td>\n",
       "      <td>0.328027</td>\n",
       "      <td>250.399437</td>\n",
       "      <td>0.040796</td>\n",
       "    </tr>\n",
       "    <tr>\n",
       "      <th>min</th>\n",
       "      <td>0.000000</td>\n",
       "      <td>-56.407510</td>\n",
       "      <td>-72.715728</td>\n",
       "      <td>-48.325589</td>\n",
       "      <td>-5.683171</td>\n",
       "      <td>-113.743307</td>\n",
       "      <td>-26.160506</td>\n",
       "      <td>-43.557242</td>\n",
       "      <td>-73.216718</td>\n",
       "      <td>-13.434066</td>\n",
       "      <td>...</td>\n",
       "      <td>-34.830382</td>\n",
       "      <td>-10.933144</td>\n",
       "      <td>-44.807735</td>\n",
       "      <td>-2.836627</td>\n",
       "      <td>-10.295397</td>\n",
       "      <td>-2.604551</td>\n",
       "      <td>-22.565679</td>\n",
       "      <td>-15.430084</td>\n",
       "      <td>0.000000</td>\n",
       "      <td>0.000000</td>\n",
       "    </tr>\n",
       "    <tr>\n",
       "      <th>25%</th>\n",
       "      <td>54204.750000</td>\n",
       "      <td>-0.915951</td>\n",
       "      <td>-0.600321</td>\n",
       "      <td>-0.889682</td>\n",
       "      <td>-0.850134</td>\n",
       "      <td>-0.689830</td>\n",
       "      <td>-0.769031</td>\n",
       "      <td>-0.552509</td>\n",
       "      <td>-0.208828</td>\n",
       "      <td>-0.644221</td>\n",
       "      <td>...</td>\n",
       "      <td>-0.228305</td>\n",
       "      <td>-0.542700</td>\n",
       "      <td>-0.161703</td>\n",
       "      <td>-0.354453</td>\n",
       "      <td>-0.317485</td>\n",
       "      <td>-0.326763</td>\n",
       "      <td>-0.070641</td>\n",
       "      <td>-0.052818</td>\n",
       "      <td>5.600000</td>\n",
       "      <td>0.000000</td>\n",
       "    </tr>\n",
       "    <tr>\n",
       "      <th>50%</th>\n",
       "      <td>84692.500000</td>\n",
       "      <td>0.020384</td>\n",
       "      <td>0.063949</td>\n",
       "      <td>0.179963</td>\n",
       "      <td>-0.022248</td>\n",
       "      <td>-0.053468</td>\n",
       "      <td>-0.275168</td>\n",
       "      <td>0.040859</td>\n",
       "      <td>0.021898</td>\n",
       "      <td>-0.052596</td>\n",
       "      <td>...</td>\n",
       "      <td>-0.029441</td>\n",
       "      <td>0.006675</td>\n",
       "      <td>-0.011159</td>\n",
       "      <td>0.041016</td>\n",
       "      <td>0.016278</td>\n",
       "      <td>-0.052172</td>\n",
       "      <td>0.001479</td>\n",
       "      <td>0.011288</td>\n",
       "      <td>22.000000</td>\n",
       "      <td>0.000000</td>\n",
       "    </tr>\n",
       "    <tr>\n",
       "      <th>75%</th>\n",
       "      <td>139298.000000</td>\n",
       "      <td>1.316068</td>\n",
       "      <td>0.800283</td>\n",
       "      <td>1.026960</td>\n",
       "      <td>0.739647</td>\n",
       "      <td>0.612218</td>\n",
       "      <td>0.396792</td>\n",
       "      <td>0.570474</td>\n",
       "      <td>0.325704</td>\n",
       "      <td>0.595977</td>\n",
       "      <td>...</td>\n",
       "      <td>0.186194</td>\n",
       "      <td>0.528245</td>\n",
       "      <td>0.147748</td>\n",
       "      <td>0.439738</td>\n",
       "      <td>0.350667</td>\n",
       "      <td>0.240261</td>\n",
       "      <td>0.091208</td>\n",
       "      <td>0.078276</td>\n",
       "      <td>77.510000</td>\n",
       "      <td>0.000000</td>\n",
       "    </tr>\n",
       "    <tr>\n",
       "      <th>max</th>\n",
       "      <td>172792.000000</td>\n",
       "      <td>2.454930</td>\n",
       "      <td>22.057729</td>\n",
       "      <td>9.382558</td>\n",
       "      <td>16.875344</td>\n",
       "      <td>34.801666</td>\n",
       "      <td>73.301626</td>\n",
       "      <td>120.589494</td>\n",
       "      <td>20.007208</td>\n",
       "      <td>15.594995</td>\n",
       "      <td>...</td>\n",
       "      <td>27.202839</td>\n",
       "      <td>10.503090</td>\n",
       "      <td>22.528412</td>\n",
       "      <td>4.584549</td>\n",
       "      <td>7.519589</td>\n",
       "      <td>3.517346</td>\n",
       "      <td>31.612198</td>\n",
       "      <td>33.847808</td>\n",
       "      <td>25691.160000</td>\n",
       "      <td>1.000000</td>\n",
       "    </tr>\n",
       "  </tbody>\n",
       "</table>\n",
       "<p>8 rows × 31 columns</p>\n",
       "</div>"
      ],
      "text/plain": [
       "                Time             V1             V2             V3  \\\n",
       "count  283726.000000  283726.000000  283726.000000  283726.000000   \n",
       "mean    94811.077600       0.005917      -0.004135       0.001613   \n",
       "std     47481.047891       1.948026       1.646703       1.508682   \n",
       "min         0.000000     -56.407510     -72.715728     -48.325589   \n",
       "25%     54204.750000      -0.915951      -0.600321      -0.889682   \n",
       "50%     84692.500000       0.020384       0.063949       0.179963   \n",
       "75%    139298.000000       1.316068       0.800283       1.026960   \n",
       "max    172792.000000       2.454930      22.057729       9.382558   \n",
       "\n",
       "                  V4             V5             V6             V7  \\\n",
       "count  283726.000000  283726.000000  283726.000000  283726.000000   \n",
       "mean       -0.002966       0.001828      -0.001139       0.001801   \n",
       "std         1.414184       1.377008       1.331931       1.227664   \n",
       "min        -5.683171    -113.743307     -26.160506     -43.557242   \n",
       "25%        -0.850134      -0.689830      -0.769031      -0.552509   \n",
       "50%        -0.022248      -0.053468      -0.275168       0.040859   \n",
       "75%         0.739647       0.612218       0.396792       0.570474   \n",
       "max        16.875344      34.801666      73.301626     120.589494   \n",
       "\n",
       "                  V8             V9  ...            V21            V22  \\\n",
       "count  283726.000000  283726.000000  ...  283726.000000  283726.000000   \n",
       "mean       -0.000854      -0.001596  ...      -0.000371      -0.000015   \n",
       "std         1.179054       1.095492  ...       0.723909       0.724550   \n",
       "min       -73.216718     -13.434066  ...     -34.830382     -10.933144   \n",
       "25%        -0.208828      -0.644221  ...      -0.228305      -0.542700   \n",
       "50%         0.021898      -0.052596  ...      -0.029441       0.006675   \n",
       "75%         0.325704       0.595977  ...       0.186194       0.528245   \n",
       "max        20.007208      15.594995  ...      27.202839      10.503090   \n",
       "\n",
       "                 V23            V24            V25            V26  \\\n",
       "count  283726.000000  283726.000000  283726.000000  283726.000000   \n",
       "mean        0.000198       0.000214      -0.000232       0.000149   \n",
       "std         0.623702       0.605627       0.521220       0.482053   \n",
       "min       -44.807735      -2.836627     -10.295397      -2.604551   \n",
       "25%        -0.161703      -0.354453      -0.317485      -0.326763   \n",
       "50%        -0.011159       0.041016       0.016278      -0.052172   \n",
       "75%         0.147748       0.439738       0.350667       0.240261   \n",
       "max        22.528412       4.584549       7.519589       3.517346   \n",
       "\n",
       "                 V27            V28         Amount          Class  \n",
       "count  283726.000000  283726.000000  283726.000000  283726.000000  \n",
       "mean        0.001763       0.000547      88.472687       0.001667  \n",
       "std         0.395744       0.328027     250.399437       0.040796  \n",
       "min       -22.565679     -15.430084       0.000000       0.000000  \n",
       "25%        -0.070641      -0.052818       5.600000       0.000000  \n",
       "50%         0.001479       0.011288      22.000000       0.000000  \n",
       "75%         0.091208       0.078276      77.510000       0.000000  \n",
       "max        31.612198      33.847808   25691.160000       1.000000  \n",
       "\n",
       "[8 rows x 31 columns]"
      ]
     },
     "execution_count": 31,
     "metadata": {},
     "output_type": "execute_result"
    }
   ],
   "source": [
    "df.describe()"
   ]
  },
  {
   "cell_type": "markdown",
   "metadata": {},
   "source": [
    "## Model development"
   ]
  },
  {
   "cell_type": "code",
   "execution_count": 32,
   "metadata": {},
   "outputs": [
    {
     "data": {
      "text/html": [
       "<style type=\"text/css\">\n",
       "#T_c1d09_row8_col1, #T_c1d09_row12_col1, #T_c1d09_row14_col1, #T_c1d09_row16_col1, #T_c1d09_row18_col1 {\n",
       "  background-color: lightgreen;\n",
       "}\n",
       "</style>\n",
       "<table id=\"T_c1d09\">\n",
       "  <thead>\n",
       "    <tr>\n",
       "      <th class=\"blank level0\" >&nbsp;</th>\n",
       "      <th id=\"T_c1d09_level0_col0\" class=\"col_heading level0 col0\" >Description</th>\n",
       "      <th id=\"T_c1d09_level0_col1\" class=\"col_heading level0 col1\" >Value</th>\n",
       "    </tr>\n",
       "  </thead>\n",
       "  <tbody>\n",
       "    <tr>\n",
       "      <th id=\"T_c1d09_level0_row0\" class=\"row_heading level0 row0\" >0</th>\n",
       "      <td id=\"T_c1d09_row0_col0\" class=\"data row0 col0\" >Session id</td>\n",
       "      <td id=\"T_c1d09_row0_col1\" class=\"data row0 col1\" >123</td>\n",
       "    </tr>\n",
       "    <tr>\n",
       "      <th id=\"T_c1d09_level0_row1\" class=\"row_heading level0 row1\" >1</th>\n",
       "      <td id=\"T_c1d09_row1_col0\" class=\"data row1 col0\" >Target</td>\n",
       "      <td id=\"T_c1d09_row1_col1\" class=\"data row1 col1\" >Class</td>\n",
       "    </tr>\n",
       "    <tr>\n",
       "      <th id=\"T_c1d09_level0_row2\" class=\"row_heading level0 row2\" >2</th>\n",
       "      <td id=\"T_c1d09_row2_col0\" class=\"data row2 col0\" >Target type</td>\n",
       "      <td id=\"T_c1d09_row2_col1\" class=\"data row2 col1\" >Binary</td>\n",
       "    </tr>\n",
       "    <tr>\n",
       "      <th id=\"T_c1d09_level0_row3\" class=\"row_heading level0 row3\" >3</th>\n",
       "      <td id=\"T_c1d09_row3_col0\" class=\"data row3 col0\" >Original data shape</td>\n",
       "      <td id=\"T_c1d09_row3_col1\" class=\"data row3 col1\" >(283726, 31)</td>\n",
       "    </tr>\n",
       "    <tr>\n",
       "      <th id=\"T_c1d09_level0_row4\" class=\"row_heading level0 row4\" >4</th>\n",
       "      <td id=\"T_c1d09_row4_col0\" class=\"data row4 col0\" >Transformed data shape</td>\n",
       "      <td id=\"T_c1d09_row4_col1\" class=\"data row4 col1\" >(481672, 7)</td>\n",
       "    </tr>\n",
       "    <tr>\n",
       "      <th id=\"T_c1d09_level0_row5\" class=\"row_heading level0 row5\" >5</th>\n",
       "      <td id=\"T_c1d09_row5_col0\" class=\"data row5 col0\" >Transformed train set shape</td>\n",
       "      <td id=\"T_c1d09_row5_col1\" class=\"data row5 col1\" >(396554, 7)</td>\n",
       "    </tr>\n",
       "    <tr>\n",
       "      <th id=\"T_c1d09_level0_row6\" class=\"row_heading level0 row6\" >6</th>\n",
       "      <td id=\"T_c1d09_row6_col0\" class=\"data row6 col0\" >Transformed test set shape</td>\n",
       "      <td id=\"T_c1d09_row6_col1\" class=\"data row6 col1\" >(85118, 7)</td>\n",
       "    </tr>\n",
       "    <tr>\n",
       "      <th id=\"T_c1d09_level0_row7\" class=\"row_heading level0 row7\" >7</th>\n",
       "      <td id=\"T_c1d09_row7_col0\" class=\"data row7 col0\" >Numeric features</td>\n",
       "      <td id=\"T_c1d09_row7_col1\" class=\"data row7 col1\" >30</td>\n",
       "    </tr>\n",
       "    <tr>\n",
       "      <th id=\"T_c1d09_level0_row8\" class=\"row_heading level0 row8\" >8</th>\n",
       "      <td id=\"T_c1d09_row8_col0\" class=\"data row8 col0\" >Preprocess</td>\n",
       "      <td id=\"T_c1d09_row8_col1\" class=\"data row8 col1\" >True</td>\n",
       "    </tr>\n",
       "    <tr>\n",
       "      <th id=\"T_c1d09_level0_row9\" class=\"row_heading level0 row9\" >9</th>\n",
       "      <td id=\"T_c1d09_row9_col0\" class=\"data row9 col0\" >Imputation type</td>\n",
       "      <td id=\"T_c1d09_row9_col1\" class=\"data row9 col1\" >simple</td>\n",
       "    </tr>\n",
       "    <tr>\n",
       "      <th id=\"T_c1d09_level0_row10\" class=\"row_heading level0 row10\" >10</th>\n",
       "      <td id=\"T_c1d09_row10_col0\" class=\"data row10 col0\" >Numeric imputation</td>\n",
       "      <td id=\"T_c1d09_row10_col1\" class=\"data row10 col1\" >mean</td>\n",
       "    </tr>\n",
       "    <tr>\n",
       "      <th id=\"T_c1d09_level0_row11\" class=\"row_heading level0 row11\" >11</th>\n",
       "      <td id=\"T_c1d09_row11_col0\" class=\"data row11 col0\" >Categorical imputation</td>\n",
       "      <td id=\"T_c1d09_row11_col1\" class=\"data row11 col1\" >mode</td>\n",
       "    </tr>\n",
       "    <tr>\n",
       "      <th id=\"T_c1d09_level0_row12\" class=\"row_heading level0 row12\" >12</th>\n",
       "      <td id=\"T_c1d09_row12_col0\" class=\"data row12 col0\" >Remove multicollinearity</td>\n",
       "      <td id=\"T_c1d09_row12_col1\" class=\"data row12 col1\" >True</td>\n",
       "    </tr>\n",
       "    <tr>\n",
       "      <th id=\"T_c1d09_level0_row13\" class=\"row_heading level0 row13\" >13</th>\n",
       "      <td id=\"T_c1d09_row13_col0\" class=\"data row13 col0\" >Multicollinearity threshold</td>\n",
       "      <td id=\"T_c1d09_row13_col1\" class=\"data row13 col1\" >0.900000</td>\n",
       "    </tr>\n",
       "    <tr>\n",
       "      <th id=\"T_c1d09_level0_row14\" class=\"row_heading level0 row14\" >14</th>\n",
       "      <td id=\"T_c1d09_row14_col0\" class=\"data row14 col0\" >Fix imbalance</td>\n",
       "      <td id=\"T_c1d09_row14_col1\" class=\"data row14 col1\" >True</td>\n",
       "    </tr>\n",
       "    <tr>\n",
       "      <th id=\"T_c1d09_level0_row15\" class=\"row_heading level0 row15\" >15</th>\n",
       "      <td id=\"T_c1d09_row15_col0\" class=\"data row15 col0\" >Fix imbalance method</td>\n",
       "      <td id=\"T_c1d09_row15_col1\" class=\"data row15 col1\" >SMOTE</td>\n",
       "    </tr>\n",
       "    <tr>\n",
       "      <th id=\"T_c1d09_level0_row16\" class=\"row_heading level0 row16\" >16</th>\n",
       "      <td id=\"T_c1d09_row16_col0\" class=\"data row16 col0\" >Normalize</td>\n",
       "      <td id=\"T_c1d09_row16_col1\" class=\"data row16 col1\" >True</td>\n",
       "    </tr>\n",
       "    <tr>\n",
       "      <th id=\"T_c1d09_level0_row17\" class=\"row_heading level0 row17\" >17</th>\n",
       "      <td id=\"T_c1d09_row17_col0\" class=\"data row17 col0\" >Normalize method</td>\n",
       "      <td id=\"T_c1d09_row17_col1\" class=\"data row17 col1\" >zscore</td>\n",
       "    </tr>\n",
       "    <tr>\n",
       "      <th id=\"T_c1d09_level0_row18\" class=\"row_heading level0 row18\" >18</th>\n",
       "      <td id=\"T_c1d09_row18_col0\" class=\"data row18 col0\" >Feature selection</td>\n",
       "      <td id=\"T_c1d09_row18_col1\" class=\"data row18 col1\" >True</td>\n",
       "    </tr>\n",
       "    <tr>\n",
       "      <th id=\"T_c1d09_level0_row19\" class=\"row_heading level0 row19\" >19</th>\n",
       "      <td id=\"T_c1d09_row19_col0\" class=\"data row19 col0\" >Feature selection method</td>\n",
       "      <td id=\"T_c1d09_row19_col1\" class=\"data row19 col1\" >classic</td>\n",
       "    </tr>\n",
       "    <tr>\n",
       "      <th id=\"T_c1d09_level0_row20\" class=\"row_heading level0 row20\" >20</th>\n",
       "      <td id=\"T_c1d09_row20_col0\" class=\"data row20 col0\" >Feature selection estimator</td>\n",
       "      <td id=\"T_c1d09_row20_col1\" class=\"data row20 col1\" >lightgbm</td>\n",
       "    </tr>\n",
       "    <tr>\n",
       "      <th id=\"T_c1d09_level0_row21\" class=\"row_heading level0 row21\" >21</th>\n",
       "      <td id=\"T_c1d09_row21_col0\" class=\"data row21 col0\" >Number of features selected</td>\n",
       "      <td id=\"T_c1d09_row21_col1\" class=\"data row21 col1\" >0.200000</td>\n",
       "    </tr>\n",
       "    <tr>\n",
       "      <th id=\"T_c1d09_level0_row22\" class=\"row_heading level0 row22\" >22</th>\n",
       "      <td id=\"T_c1d09_row22_col0\" class=\"data row22 col0\" >Fold Generator</td>\n",
       "      <td id=\"T_c1d09_row22_col1\" class=\"data row22 col1\" >StratifiedKFold</td>\n",
       "    </tr>\n",
       "    <tr>\n",
       "      <th id=\"T_c1d09_level0_row23\" class=\"row_heading level0 row23\" >23</th>\n",
       "      <td id=\"T_c1d09_row23_col0\" class=\"data row23 col0\" >Fold Number</td>\n",
       "      <td id=\"T_c1d09_row23_col1\" class=\"data row23 col1\" >10</td>\n",
       "    </tr>\n",
       "    <tr>\n",
       "      <th id=\"T_c1d09_level0_row24\" class=\"row_heading level0 row24\" >24</th>\n",
       "      <td id=\"T_c1d09_row24_col0\" class=\"data row24 col0\" >CPU Jobs</td>\n",
       "      <td id=\"T_c1d09_row24_col1\" class=\"data row24 col1\" >-1</td>\n",
       "    </tr>\n",
       "    <tr>\n",
       "      <th id=\"T_c1d09_level0_row25\" class=\"row_heading level0 row25\" >25</th>\n",
       "      <td id=\"T_c1d09_row25_col0\" class=\"data row25 col0\" >Use GPU</td>\n",
       "      <td id=\"T_c1d09_row25_col1\" class=\"data row25 col1\" >False</td>\n",
       "    </tr>\n",
       "    <tr>\n",
       "      <th id=\"T_c1d09_level0_row26\" class=\"row_heading level0 row26\" >26</th>\n",
       "      <td id=\"T_c1d09_row26_col0\" class=\"data row26 col0\" >Log Experiment</td>\n",
       "      <td id=\"T_c1d09_row26_col1\" class=\"data row26 col1\" >False</td>\n",
       "    </tr>\n",
       "    <tr>\n",
       "      <th id=\"T_c1d09_level0_row27\" class=\"row_heading level0 row27\" >27</th>\n",
       "      <td id=\"T_c1d09_row27_col0\" class=\"data row27 col0\" >Experiment Name</td>\n",
       "      <td id=\"T_c1d09_row27_col1\" class=\"data row27 col1\" >clf-default-name</td>\n",
       "    </tr>\n",
       "    <tr>\n",
       "      <th id=\"T_c1d09_level0_row28\" class=\"row_heading level0 row28\" >28</th>\n",
       "      <td id=\"T_c1d09_row28_col0\" class=\"data row28 col0\" >USI</td>\n",
       "      <td id=\"T_c1d09_row28_col1\" class=\"data row28 col1\" >d5ff</td>\n",
       "    </tr>\n",
       "  </tbody>\n",
       "</table>\n"
      ],
      "text/plain": [
       "<pandas.io.formats.style.Styler at 0x20e174bbe10>"
      ]
     },
     "metadata": {},
     "output_type": "display_data"
    }
   ],
   "source": [
    "# Initialize PyCaret\n",
    "exp = setup(\n",
    "    data=df,            # Dataset\n",
    "    target='Class',     # Target column (fraud: 1, no fraud: 0)\n",
    "    normalize=True,     # Auto-scale features\n",
    "    fix_imbalance=True, # Handle class imbalance automatically\n",
    "    session_id=123,     # Reproducibility\n",
    "    remove_multicollinearity=True,  # Remove highly correlated features\n",
    "    feature_selection=True,  # Automatically select important features\n",
    ")"
   ]
  },
  {
   "cell_type": "code",
   "execution_count": 33,
   "metadata": {},
   "outputs": [
    {
     "data": {
      "text/html": [],
      "text/plain": [
       "<IPython.core.display.HTML object>"
      ]
     },
     "metadata": {},
     "output_type": "display_data"
    },
    {
     "data": {
      "text/html": [
       "<style type=\"text/css\">\n",
       "#T_1bc21 th {\n",
       "  text-align: left;\n",
       "}\n",
       "#T_1bc21_row0_col0, #T_1bc21_row0_col2, #T_1bc21_row0_col3, #T_1bc21_row1_col0, #T_1bc21_row1_col1, #T_1bc21_row1_col2, #T_1bc21_row1_col3, #T_1bc21_row1_col4, #T_1bc21_row1_col5, #T_1bc21_row1_col6, #T_1bc21_row1_col7, #T_1bc21_row2_col0, #T_1bc21_row2_col1, #T_1bc21_row2_col2, #T_1bc21_row2_col3, #T_1bc21_row2_col4, #T_1bc21_row2_col5, #T_1bc21_row2_col6, #T_1bc21_row2_col7, #T_1bc21_row3_col0, #T_1bc21_row3_col1, #T_1bc21_row3_col2, #T_1bc21_row3_col3, #T_1bc21_row3_col4, #T_1bc21_row3_col5, #T_1bc21_row3_col6, #T_1bc21_row3_col7, #T_1bc21_row4_col0, #T_1bc21_row4_col1, #T_1bc21_row4_col2, #T_1bc21_row4_col3, #T_1bc21_row4_col4, #T_1bc21_row4_col5, #T_1bc21_row4_col6, #T_1bc21_row4_col7, #T_1bc21_row5_col0, #T_1bc21_row5_col1, #T_1bc21_row5_col2, #T_1bc21_row5_col3, #T_1bc21_row5_col4, #T_1bc21_row5_col5, #T_1bc21_row5_col6, #T_1bc21_row5_col7, #T_1bc21_row6_col0, #T_1bc21_row6_col1, #T_1bc21_row6_col2, #T_1bc21_row6_col3, #T_1bc21_row6_col4, #T_1bc21_row6_col5, #T_1bc21_row6_col6, #T_1bc21_row6_col7, #T_1bc21_row7_col0, #T_1bc21_row7_col1, #T_1bc21_row7_col2, #T_1bc21_row7_col3, #T_1bc21_row7_col4, #T_1bc21_row7_col5, #T_1bc21_row7_col6, #T_1bc21_row7_col7, #T_1bc21_row8_col0, #T_1bc21_row8_col1, #T_1bc21_row8_col2, #T_1bc21_row8_col3, #T_1bc21_row8_col4, #T_1bc21_row8_col5, #T_1bc21_row8_col6, #T_1bc21_row8_col7, #T_1bc21_row9_col0, #T_1bc21_row9_col1, #T_1bc21_row9_col2, #T_1bc21_row9_col4, #T_1bc21_row9_col5, #T_1bc21_row9_col6, #T_1bc21_row9_col7, #T_1bc21_row10_col0, #T_1bc21_row10_col1, #T_1bc21_row10_col4, #T_1bc21_row10_col5, #T_1bc21_row10_col6, #T_1bc21_row10_col7, #T_1bc21_row11_col0, #T_1bc21_row11_col1, #T_1bc21_row11_col2, #T_1bc21_row11_col3, #T_1bc21_row11_col4, #T_1bc21_row11_col5, #T_1bc21_row11_col6, #T_1bc21_row11_col7, #T_1bc21_row12_col0, #T_1bc21_row12_col1, #T_1bc21_row12_col2, #T_1bc21_row12_col3, #T_1bc21_row12_col4, #T_1bc21_row12_col5, #T_1bc21_row12_col6, #T_1bc21_row12_col7, #T_1bc21_row13_col0, #T_1bc21_row13_col1, #T_1bc21_row13_col2, #T_1bc21_row13_col3, #T_1bc21_row13_col4, #T_1bc21_row13_col5, #T_1bc21_row13_col6, #T_1bc21_row13_col7 {\n",
       "  text-align: left;\n",
       "}\n",
       "#T_1bc21_row0_col1, #T_1bc21_row0_col4, #T_1bc21_row0_col5, #T_1bc21_row0_col6, #T_1bc21_row0_col7, #T_1bc21_row9_col3, #T_1bc21_row10_col2, #T_1bc21_row10_col3 {\n",
       "  text-align: left;\n",
       "  background-color: yellow;\n",
       "}\n",
       "#T_1bc21_row0_col8, #T_1bc21_row1_col8, #T_1bc21_row2_col8, #T_1bc21_row3_col8, #T_1bc21_row4_col8, #T_1bc21_row5_col8, #T_1bc21_row6_col8, #T_1bc21_row8_col8, #T_1bc21_row9_col8, #T_1bc21_row10_col8, #T_1bc21_row11_col8, #T_1bc21_row12_col8, #T_1bc21_row13_col8 {\n",
       "  text-align: left;\n",
       "  background-color: lightgrey;\n",
       "}\n",
       "#T_1bc21_row7_col8 {\n",
       "  text-align: left;\n",
       "  background-color: yellow;\n",
       "  background-color: lightgrey;\n",
       "}\n",
       "</style>\n",
       "<table id=\"T_1bc21\">\n",
       "  <thead>\n",
       "    <tr>\n",
       "      <th class=\"blank level0\" >&nbsp;</th>\n",
       "      <th id=\"T_1bc21_level0_col0\" class=\"col_heading level0 col0\" >Model</th>\n",
       "      <th id=\"T_1bc21_level0_col1\" class=\"col_heading level0 col1\" >Accuracy</th>\n",
       "      <th id=\"T_1bc21_level0_col2\" class=\"col_heading level0 col2\" >AUC</th>\n",
       "      <th id=\"T_1bc21_level0_col3\" class=\"col_heading level0 col3\" >Recall</th>\n",
       "      <th id=\"T_1bc21_level0_col4\" class=\"col_heading level0 col4\" >Prec.</th>\n",
       "      <th id=\"T_1bc21_level0_col5\" class=\"col_heading level0 col5\" >F1</th>\n",
       "      <th id=\"T_1bc21_level0_col6\" class=\"col_heading level0 col6\" >Kappa</th>\n",
       "      <th id=\"T_1bc21_level0_col7\" class=\"col_heading level0 col7\" >MCC</th>\n",
       "      <th id=\"T_1bc21_level0_col8\" class=\"col_heading level0 col8\" >TT (Sec)</th>\n",
       "    </tr>\n",
       "  </thead>\n",
       "  <tbody>\n",
       "    <tr>\n",
       "      <th id=\"T_1bc21_level0_row0\" class=\"row_heading level0 row0\" >et</th>\n",
       "      <td id=\"T_1bc21_row0_col0\" class=\"data row0 col0\" >Extra Trees Classifier</td>\n",
       "      <td id=\"T_1bc21_row0_col1\" class=\"data row0 col1\" >0.9992</td>\n",
       "      <td id=\"T_1bc21_row0_col2\" class=\"data row0 col2\" >0.9547</td>\n",
       "      <td id=\"T_1bc21_row0_col3\" class=\"data row0 col3\" >0.8311</td>\n",
       "      <td id=\"T_1bc21_row0_col4\" class=\"data row0 col4\" >0.7288</td>\n",
       "      <td id=\"T_1bc21_row0_col5\" class=\"data row0 col5\" >0.7717</td>\n",
       "      <td id=\"T_1bc21_row0_col6\" class=\"data row0 col6\" >0.7713</td>\n",
       "      <td id=\"T_1bc21_row0_col7\" class=\"data row0 col7\" >0.7754</td>\n",
       "      <td id=\"T_1bc21_row0_col8\" class=\"data row0 col8\" >7.5530</td>\n",
       "    </tr>\n",
       "    <tr>\n",
       "      <th id=\"T_1bc21_level0_row1\" class=\"row_heading level0 row1\" >rf</th>\n",
       "      <td id=\"T_1bc21_row1_col0\" class=\"data row1 col0\" >Random Forest Classifier</td>\n",
       "      <td id=\"T_1bc21_row1_col1\" class=\"data row1 col1\" >0.9987</td>\n",
       "      <td id=\"T_1bc21_row1_col2\" class=\"data row1 col2\" >0.9521</td>\n",
       "      <td id=\"T_1bc21_row1_col3\" class=\"data row1 col3\" >0.8282</td>\n",
       "      <td id=\"T_1bc21_row1_col4\" class=\"data row1 col4\" >0.5846</td>\n",
       "      <td id=\"T_1bc21_row1_col5\" class=\"data row1 col5\" >0.6816</td>\n",
       "      <td id=\"T_1bc21_row1_col6\" class=\"data row1 col6\" >0.6810</td>\n",
       "      <td id=\"T_1bc21_row1_col7\" class=\"data row1 col7\" >0.6932</td>\n",
       "      <td id=\"T_1bc21_row1_col8\" class=\"data row1 col8\" >35.0100</td>\n",
       "    </tr>\n",
       "    <tr>\n",
       "      <th id=\"T_1bc21_level0_row2\" class=\"row_heading level0 row2\" >dummy</th>\n",
       "      <td id=\"T_1bc21_row2_col0\" class=\"data row2 col0\" >Dummy Classifier</td>\n",
       "      <td id=\"T_1bc21_row2_col1\" class=\"data row2 col1\" >0.9983</td>\n",
       "      <td id=\"T_1bc21_row2_col2\" class=\"data row2 col2\" >0.5000</td>\n",
       "      <td id=\"T_1bc21_row2_col3\" class=\"data row2 col3\" >0.0000</td>\n",
       "      <td id=\"T_1bc21_row2_col4\" class=\"data row2 col4\" >0.0000</td>\n",
       "      <td id=\"T_1bc21_row2_col5\" class=\"data row2 col5\" >0.0000</td>\n",
       "      <td id=\"T_1bc21_row2_col6\" class=\"data row2 col6\" >0.0000</td>\n",
       "      <td id=\"T_1bc21_row2_col7\" class=\"data row2 col7\" >0.0000</td>\n",
       "      <td id=\"T_1bc21_row2_col8\" class=\"data row2 col8\" >2.5790</td>\n",
       "    </tr>\n",
       "    <tr>\n",
       "      <th id=\"T_1bc21_level0_row3\" class=\"row_heading level0 row3\" >dt</th>\n",
       "      <td id=\"T_1bc21_row3_col0\" class=\"data row3 col0\" >Decision Tree Classifier</td>\n",
       "      <td id=\"T_1bc21_row3_col1\" class=\"data row3 col1\" >0.9970</td>\n",
       "      <td id=\"T_1bc21_row3_col2\" class=\"data row3 col2\" >0.9021</td>\n",
       "      <td id=\"T_1bc21_row3_col3\" class=\"data row3 col3\" >0.8070</td>\n",
       "      <td id=\"T_1bc21_row3_col4\" class=\"data row3 col4\" >0.3370</td>\n",
       "      <td id=\"T_1bc21_row3_col5\" class=\"data row3 col5\" >0.4741</td>\n",
       "      <td id=\"T_1bc21_row3_col6\" class=\"data row3 col6\" >0.4729</td>\n",
       "      <td id=\"T_1bc21_row3_col7\" class=\"data row3 col7\" >0.5195</td>\n",
       "      <td id=\"T_1bc21_row3_col8\" class=\"data row3 col8\" >7.9310</td>\n",
       "    </tr>\n",
       "    <tr>\n",
       "      <th id=\"T_1bc21_level0_row4\" class=\"row_heading level0 row4\" >lightgbm</th>\n",
       "      <td id=\"T_1bc21_row4_col0\" class=\"data row4 col0\" >Light Gradient Boosting Machine</td>\n",
       "      <td id=\"T_1bc21_row4_col1\" class=\"data row4 col1\" >0.9959</td>\n",
       "      <td id=\"T_1bc21_row4_col2\" class=\"data row4 col2\" >0.9541</td>\n",
       "      <td id=\"T_1bc21_row4_col3\" class=\"data row4 col3\" >0.8461</td>\n",
       "      <td id=\"T_1bc21_row4_col4\" class=\"data row4 col4\" >0.2689</td>\n",
       "      <td id=\"T_1bc21_row4_col5\" class=\"data row4 col5\" >0.4069</td>\n",
       "      <td id=\"T_1bc21_row4_col6\" class=\"data row4 col6\" >0.4054</td>\n",
       "      <td id=\"T_1bc21_row4_col7\" class=\"data row4 col7\" >0.4748</td>\n",
       "      <td id=\"T_1bc21_row4_col8\" class=\"data row4 col8\" >3.3330</td>\n",
       "    </tr>\n",
       "    <tr>\n",
       "      <th id=\"T_1bc21_level0_row5\" class=\"row_heading level0 row5\" >knn</th>\n",
       "      <td id=\"T_1bc21_row5_col0\" class=\"data row5 col0\" >K Neighbors Classifier</td>\n",
       "      <td id=\"T_1bc21_row5_col1\" class=\"data row5 col1\" >0.9957</td>\n",
       "      <td id=\"T_1bc21_row5_col2\" class=\"data row5 col2\" >0.9234</td>\n",
       "      <td id=\"T_1bc21_row5_col3\" class=\"data row5 col3\" >0.8492</td>\n",
       "      <td id=\"T_1bc21_row5_col4\" class=\"data row5 col4\" >0.2618</td>\n",
       "      <td id=\"T_1bc21_row5_col5\" class=\"data row5 col5\" >0.3991</td>\n",
       "      <td id=\"T_1bc21_row5_col6\" class=\"data row5 col6\" >0.3975</td>\n",
       "      <td id=\"T_1bc21_row5_col7\" class=\"data row5 col7\" >0.4692</td>\n",
       "      <td id=\"T_1bc21_row5_col8\" class=\"data row5 col8\" >4.7020</td>\n",
       "    </tr>\n",
       "    <tr>\n",
       "      <th id=\"T_1bc21_level0_row6\" class=\"row_heading level0 row6\" >ridge</th>\n",
       "      <td id=\"T_1bc21_row6_col0\" class=\"data row6 col0\" >Ridge Classifier</td>\n",
       "      <td id=\"T_1bc21_row6_col1\" class=\"data row6 col1\" >0.9936</td>\n",
       "      <td id=\"T_1bc21_row6_col2\" class=\"data row6 col2\" >0.9677</td>\n",
       "      <td id=\"T_1bc21_row6_col3\" class=\"data row6 col3\" >0.7948</td>\n",
       "      <td id=\"T_1bc21_row6_col4\" class=\"data row6 col4\" >0.1813</td>\n",
       "      <td id=\"T_1bc21_row6_col5\" class=\"data row6 col5\" >0.2945</td>\n",
       "      <td id=\"T_1bc21_row6_col6\" class=\"data row6 col6\" >0.2926</td>\n",
       "      <td id=\"T_1bc21_row6_col7\" class=\"data row6 col7\" >0.3770</td>\n",
       "      <td id=\"T_1bc21_row6_col8\" class=\"data row6 col8\" >3.9810</td>\n",
       "    </tr>\n",
       "    <tr>\n",
       "      <th id=\"T_1bc21_level0_row7\" class=\"row_heading level0 row7\" >lda</th>\n",
       "      <td id=\"T_1bc21_row7_col0\" class=\"data row7 col0\" >Linear Discriminant Analysis</td>\n",
       "      <td id=\"T_1bc21_row7_col1\" class=\"data row7 col1\" >0.9936</td>\n",
       "      <td id=\"T_1bc21_row7_col2\" class=\"data row7 col2\" >0.9677</td>\n",
       "      <td id=\"T_1bc21_row7_col3\" class=\"data row7 col3\" >0.7948</td>\n",
       "      <td id=\"T_1bc21_row7_col4\" class=\"data row7 col4\" >0.1813</td>\n",
       "      <td id=\"T_1bc21_row7_col5\" class=\"data row7 col5\" >0.2945</td>\n",
       "      <td id=\"T_1bc21_row7_col6\" class=\"data row7 col6\" >0.2926</td>\n",
       "      <td id=\"T_1bc21_row7_col7\" class=\"data row7 col7\" >0.3770</td>\n",
       "      <td id=\"T_1bc21_row7_col8\" class=\"data row7 col8\" >2.3540</td>\n",
       "    </tr>\n",
       "    <tr>\n",
       "      <th id=\"T_1bc21_level0_row8\" class=\"row_heading level0 row8\" >gbc</th>\n",
       "      <td id=\"T_1bc21_row8_col0\" class=\"data row8 col0\" >Gradient Boosting Classifier</td>\n",
       "      <td id=\"T_1bc21_row8_col1\" class=\"data row8 col1\" >0.9897</td>\n",
       "      <td id=\"T_1bc21_row8_col2\" class=\"data row8 col2\" >0.9652</td>\n",
       "      <td id=\"T_1bc21_row8_col3\" class=\"data row8 col3\" >0.8701</td>\n",
       "      <td id=\"T_1bc21_row8_col4\" class=\"data row8 col4\" >0.1279</td>\n",
       "      <td id=\"T_1bc21_row8_col5\" class=\"data row8 col5\" >0.2225</td>\n",
       "      <td id=\"T_1bc21_row8_col6\" class=\"data row8 col6\" >0.2202</td>\n",
       "      <td id=\"T_1bc21_row8_col7\" class=\"data row8 col7\" >0.3305</td>\n",
       "      <td id=\"T_1bc21_row8_col8\" class=\"data row8 col8\" >37.6960</td>\n",
       "    </tr>\n",
       "    <tr>\n",
       "      <th id=\"T_1bc21_level0_row9\" class=\"row_heading level0 row9\" >svm</th>\n",
       "      <td id=\"T_1bc21_row9_col0\" class=\"data row9 col0\" >SVM - Linear Kernel</td>\n",
       "      <td id=\"T_1bc21_row9_col1\" class=\"data row9 col1\" >0.9855</td>\n",
       "      <td id=\"T_1bc21_row9_col2\" class=\"data row9 col2\" >0.9740</td>\n",
       "      <td id=\"T_1bc21_row9_col3\" class=\"data row9 col3\" >0.8883</td>\n",
       "      <td id=\"T_1bc21_row9_col4\" class=\"data row9 col4\" >0.0996</td>\n",
       "      <td id=\"T_1bc21_row9_col5\" class=\"data row9 col5\" >0.1781</td>\n",
       "      <td id=\"T_1bc21_row9_col6\" class=\"data row9 col6\" >0.1756</td>\n",
       "      <td id=\"T_1bc21_row9_col7\" class=\"data row9 col7\" >0.2925</td>\n",
       "      <td id=\"T_1bc21_row9_col8\" class=\"data row9 col8\" >5.0140</td>\n",
       "    </tr>\n",
       "    <tr>\n",
       "      <th id=\"T_1bc21_level0_row10\" class=\"row_heading level0 row10\" >lr</th>\n",
       "      <td id=\"T_1bc21_row10_col0\" class=\"data row10 col0\" >Logistic Regression</td>\n",
       "      <td id=\"T_1bc21_row10_col1\" class=\"data row10 col1\" >0.9847</td>\n",
       "      <td id=\"T_1bc21_row10_col2\" class=\"data row10 col2\" >0.9743</td>\n",
       "      <td id=\"T_1bc21_row10_col3\" class=\"data row10 col3\" >0.8883</td>\n",
       "      <td id=\"T_1bc21_row10_col4\" class=\"data row10 col4\" >0.0910</td>\n",
       "      <td id=\"T_1bc21_row10_col5\" class=\"data row10 col5\" >0.1648</td>\n",
       "      <td id=\"T_1bc21_row10_col6\" class=\"data row10 col6\" >0.1623</td>\n",
       "      <td id=\"T_1bc21_row10_col7\" class=\"data row10 col7\" >0.2810</td>\n",
       "      <td id=\"T_1bc21_row10_col8\" class=\"data row10 col8\" >3.5120</td>\n",
       "    </tr>\n",
       "    <tr>\n",
       "      <th id=\"T_1bc21_level0_row11\" class=\"row_heading level0 row11\" >ada</th>\n",
       "      <td id=\"T_1bc21_row11_col0\" class=\"data row11 col0\" >Ada Boost Classifier</td>\n",
       "      <td id=\"T_1bc21_row11_col1\" class=\"data row11 col1\" >0.9830</td>\n",
       "      <td id=\"T_1bc21_row11_col2\" class=\"data row11 col2\" >0.9585</td>\n",
       "      <td id=\"T_1bc21_row11_col3\" class=\"data row11 col3\" >0.8852</td>\n",
       "      <td id=\"T_1bc21_row11_col4\" class=\"data row11 col4\" >0.0809</td>\n",
       "      <td id=\"T_1bc21_row11_col5\" class=\"data row11 col5\" >0.1482</td>\n",
       "      <td id=\"T_1bc21_row11_col6\" class=\"data row11 col6\" >0.1456</td>\n",
       "      <td id=\"T_1bc21_row11_col7\" class=\"data row11 col7\" >0.2646</td>\n",
       "      <td id=\"T_1bc21_row11_col8\" class=\"data row11 col8\" >10.9090</td>\n",
       "    </tr>\n",
       "    <tr>\n",
       "      <th id=\"T_1bc21_level0_row12\" class=\"row_heading level0 row12\" >nb</th>\n",
       "      <td id=\"T_1bc21_row12_col0\" class=\"data row12 col0\" >Naive Bayes</td>\n",
       "      <td id=\"T_1bc21_row12_col1\" class=\"data row12 col1\" >0.9814</td>\n",
       "      <td id=\"T_1bc21_row12_col2\" class=\"data row12 col2\" >0.9683</td>\n",
       "      <td id=\"T_1bc21_row12_col3\" class=\"data row12 col3\" >0.8854</td>\n",
       "      <td id=\"T_1bc21_row12_col4\" class=\"data row12 col4\" >0.0749</td>\n",
       "      <td id=\"T_1bc21_row12_col5\" class=\"data row12 col5\" >0.1380</td>\n",
       "      <td id=\"T_1bc21_row12_col6\" class=\"data row12 col6\" >0.1354</td>\n",
       "      <td id=\"T_1bc21_row12_col7\" class=\"data row12 col7\" >0.2542</td>\n",
       "      <td id=\"T_1bc21_row12_col8\" class=\"data row12 col8\" >5.5360</td>\n",
       "    </tr>\n",
       "    <tr>\n",
       "      <th id=\"T_1bc21_level0_row13\" class=\"row_heading level0 row13\" >qda</th>\n",
       "      <td id=\"T_1bc21_row13_col0\" class=\"data row13 col0\" >Quadratic Discriminant Analysis</td>\n",
       "      <td id=\"T_1bc21_row13_col1\" class=\"data row13 col1\" >0.9709</td>\n",
       "      <td id=\"T_1bc21_row13_col2\" class=\"data row13 col2\" >0.9690</td>\n",
       "      <td id=\"T_1bc21_row13_col3\" class=\"data row13 col3\" >0.8855</td>\n",
       "      <td id=\"T_1bc21_row13_col4\" class=\"data row13 col4\" >0.0489</td>\n",
       "      <td id=\"T_1bc21_row13_col5\" class=\"data row13 col5\" >0.0927</td>\n",
       "      <td id=\"T_1bc21_row13_col6\" class=\"data row13 col6\" >0.0898</td>\n",
       "      <td id=\"T_1bc21_row13_col7\" class=\"data row13 col7\" >0.2041</td>\n",
       "      <td id=\"T_1bc21_row13_col8\" class=\"data row13 col8\" >3.1900</td>\n",
       "    </tr>\n",
       "  </tbody>\n",
       "</table>\n"
      ],
      "text/plain": [
       "<pandas.io.formats.style.Styler at 0x20e0676f690>"
      ]
     },
     "metadata": {},
     "output_type": "display_data"
    },
    {
     "data": {
      "text/html": [],
      "text/plain": [
       "<IPython.core.display.HTML object>"
      ]
     },
     "metadata": {},
     "output_type": "display_data"
    }
   ],
   "source": [
    "best_model = compare_models()"
   ]
  },
  {
   "cell_type": "code",
   "execution_count": 34,
   "metadata": {},
   "outputs": [
    {
     "data": {
      "application/vnd.jupyter.widget-view+json": {
       "model_id": "9fd3295abb98415182b96e5bb1c069f6",
       "version_major": 2,
       "version_minor": 0
      },
      "text/plain": [
       "interactive(children=(ToggleButtons(description='Plot Type:', icons=('',), options=(('Pipeline Plot', 'pipelin…"
      ]
     },
     "metadata": {},
     "output_type": "display_data"
    },
    {
     "data": {
      "text/html": [],
      "text/plain": [
       "<IPython.core.display.HTML object>"
      ]
     },
     "metadata": {},
     "output_type": "display_data"
    },
    {
     "data": {
      "image/png": "[encoded data removed]",
      "text/plain": [
       "<Figure size 800x550 with 1 Axes>"
      ]
     },
     "metadata": {},
     "output_type": "display_data"
    },
    {
     "data": {
      "text/html": [],
      "text/plain": [
       "<IPython.core.display.HTML object>"
      ]
     },
     "metadata": {},
     "output_type": "display_data"
    },
    {
     "data": {
      "image/png": "[encoded data removed]",
      "text/plain": [
       "<Figure size 800x500 with 1 Axes>"
      ]
     },
     "metadata": {},
     "output_type": "display_data"
    }
   ],
   "source": [
    "#additional insights into the model performances.\n",
    "evaluate_model(best_model)\n",
    "\n",
    "plot_model(best_model, plot='auc')\n",
    "plot_model(best_model, plot='feature')"
   ]
  },
  {
   "cell_type": "code",
   "execution_count": 35,
   "metadata": {},
   "outputs": [
    {
     "name": "stdout",
     "output_type": "stream",
     "text": [
      "ExtraTreesClassifier(bootstrap=False, ccp_alpha=0.0, class_weight=None,\n",
      "                     criterion='gini', max_depth=None, max_features='sqrt',\n",
      "                     max_leaf_nodes=None, max_samples=None,\n",
      "                     min_impurity_decrease=0.0, min_samples_leaf=1,\n",
      "                     min_samples_split=2, min_weight_fraction_leaf=0.0,\n",
      "                     monotonic_cst=None, n_estimators=100, n_jobs=-1,\n",
      "                     oob_score=False, random_state=123, verbose=0,\n",
      "                     warm_start=False)\n"
     ]
    }
   ],
   "source": [
    "print(best_model)"
   ]
  },
  {
   "cell_type": "code",
   "execution_count": 36,
   "metadata": {},
   "outputs": [],
   "source": [
    "# Finalize the best model\n",
    "final_model = finalize_model(best_model)"
   ]
  },
  {
   "cell_type": "code",
   "execution_count": 37,
   "metadata": {},
   "outputs": [
    {
     "data": {
      "text/html": [],
      "text/plain": [
       "<IPython.core.display.HTML object>"
      ]
     },
     "metadata": {},
     "output_type": "display_data"
    }
   ],
   "source": [
    "new_data = {\n",
    "    'Time': 10000,          # Time in seconds since the first transaction (randomized value)\n",
    "    'V1': -0.095459,       # Example of a transformed feature (V1, V2, ..., V28 are PCA components)\n",
    "    'V2': -0.237526,\n",
    "    'V3': 0.106145,\n",
    "    'V4': -0.278178,\n",
    "    'V5': 0.437071,\n",
    "    'V6': 0.060357,\n",
    "    'V7': 0.133052,\n",
    "    'V8': 0.029633,\n",
    "    'V9': -0.157134,\n",
    "    'V10': -0.054302,\n",
    "    'V11': 0.124157,\n",
    "    'V12': -0.038907,\n",
    "    'V13': -0.282089,\n",
    "    'V14': 0.091447,\n",
    "    'V15': -0.165314,\n",
    "    'V16': 0.058350,\n",
    "    'V17': 0.073775,\n",
    "    'V18': 0.029840,\n",
    "    'V19': -0.087655,\n",
    "    'V20': -0.169512,\n",
    "    'V21': -0.020706,\n",
    "    'V22': 0.007763,\n",
    "    'V23': -0.098381,\n",
    "    'V24': -0.078027,\n",
    "    'V25': 0.135968,\n",
    "    'V26': 0.006929,\n",
    "    'V27': -0.063157,\n",
    "    'V28': 0.029586,\n",
    "    'Amount': 55.75,        # Transaction amount\n",
    "}\n",
    "\n",
    "new_data_df = pd.DataFrame([new_data])\n",
    "\n",
    "predictions = predict_model(final_model, data=new_data_df)"
   ]
  },
  {
   "cell_type": "code",
   "execution_count": 38,
   "metadata": {},
   "outputs": [
    {
     "name": "stdout",
     "output_type": "stream",
     "text": [
      "Available columns: ['Time', 'V1', 'V2', 'V3', 'V4', 'V5', 'V6', 'V7', 'V8', 'V9', 'V10', 'V11', 'V12', 'V13', 'V14', 'V15', 'V16', 'V17', 'V18', 'V19', 'V20', 'V21', 'V22', 'V23', 'V24', 'V25', 'V26', 'V27', 'V28', 'Amount', 'prediction_label', 'prediction_score']\n"
     ]
    }
   ],
   "source": [
    "print(\"Available columns:\", predictions.columns.tolist())"
   ]
  },
  {
   "cell_type": "code",
   "execution_count": 39,
   "metadata": {},
   "outputs": [
    {
     "name": "stdout",
     "output_type": "stream",
     "text": [
      "   prediction_label  prediction_score\n",
      "0                 0               1.0\n"
     ]
    }
   ],
   "source": [
    "print(predictions[['prediction_label', 'prediction_score']]) "
   ]
  },
  {
   "cell_type": "code",
   "execution_count": 40,
   "metadata": {},
   "outputs": [
    {
     "name": "stdout",
     "output_type": "stream",
     "text": [
      "Transformation Pipeline and Model Successfully Saved\n"
     ]
    },
    {
     "data": {
      "text/plain": [
       "(Pipeline(memory=Memory(location=None),\n",
       "          steps=[('numerical_imputer',\n",
       "                  TransformerWrapper(exclude=None,\n",
       "                                     include=['Time', 'V1', 'V2', 'V3', 'V4',\n",
       "                                              'V5', 'V6', 'V7', 'V8', 'V9',\n",
       "                                              'V10', 'V11', 'V12', 'V13', 'V14',\n",
       "                                              'V15', 'V16', 'V17', 'V18', 'V19',\n",
       "                                              'V20', 'V21', 'V22', 'V23', 'V24',\n",
       "                                              'V25', 'V26', 'V27', 'V28',\n",
       "                                              'Amount'],\n",
       "                                     transformer=SimpleImputer(add_indicator=False,\n",
       "                                                               copy=True,\n",
       "                                                               fill_value=...\n",
       "                  ExtraTreesClassifier(bootstrap=False, ccp_alpha=0.0,\n",
       "                                       class_weight=None, criterion='gini',\n",
       "                                       max_depth=None, max_features='sqrt',\n",
       "                                       max_leaf_nodes=None, max_samples=None,\n",
       "                                       min_impurity_decrease=0.0,\n",
       "                                       min_samples_leaf=1, min_samples_split=2,\n",
       "                                       min_weight_fraction_leaf=0.0,\n",
       "                                       monotonic_cst=None, n_estimators=100,\n",
       "                                       n_jobs=-1, oob_score=False,\n",
       "                                       random_state=123, verbose=0,\n",
       "                                       warm_start=False))],\n",
       "          verbose=False),\n",
       " 'saved_model_1.pkl')"
      ]
     },
     "execution_count": 40,
     "metadata": {},
     "output_type": "execute_result"
    }
   ],
   "source": [
    "save_model(final_model, 'saved_model_1')"
   ]
  },
  {
   "cell_type": "code",
   "execution_count": null,
   "metadata": {},
   "outputs": [],
   "source": []
  }
 ],
 "metadata": {
  "kernelspec": {
   "display_name": "credit-card-env",
   "language": "python",
   "name": "python3"
  },
  "language_info": {
   "codemirror_mode": {
    "name": "ipython",
    "version": 3
   },
   "file_extension": ".py",
   "mimetype": "text/x-python",
   "name": "python",
   "nbconvert_exporter": "python",
   "pygments_lexer": "ipython3",
   "version": "3.11.0"
  }
 },
 "nbformat": 4,
 "nbformat_minor": 2
}
